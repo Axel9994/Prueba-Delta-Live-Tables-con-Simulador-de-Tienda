{
 "cells": [
  {
   "cell_type": "code",
   "execution_count": null,
   "metadata": {
    "application/vnd.databricks.v1+cell": {
     "cellMetadata": {
      "byteLimit": 2048000,
      "implicitDf": true,
      "rowLimit": 10000
     },
     "inputWidgets": {},
     "nuid": "04ec1b26-3f3a-41f0-9399-d17f5564b7cf",
     "showTitle": false,
     "tableResultSettingsMap": {},
     "title": ""
    }
   },
   "outputs": [],
   "source": [
    "import dlt\n",
    "import pyspark.sql.types as T\n",
    "from pyspark.sql.functions import *\n",
    "from pyspark.sql import functions as F\n",
    "\n",
    "\n",
    "EH_CONN_STR                     = \"<cadena conexion event hubs>\"\n",
    "# Kafka Consumer configuration\n",
    "\n",
    "KAFKA_OPTIONS = {\n",
    "  \"kafka.bootstrap.servers\"  : f\"<servidor event hub>.servicebus.windows.net:9093\",\n",
    "  \"subscribe\"                : \"<nombre event hub>\",\n",
    "  \"kafka.sasl.mechanism\"     : \"PLAIN\",\n",
    "  \"kafka.security.protocol\"  : \"SASL_SSL\",\n",
    "  \"kafka.sasl.jaas.config\"   : f\"kafkashaded.org.apache.kafka.common.security.plain.PlainLoginModule required username=\\\"$ConnectionString\\\" password=\\\"{EH_CONN_STR}\\\";\"\n",
    "}\n",
    "\n",
    "# PAYLOAD SCHEMA\n",
    "payload_ddl = \"\"\"timestamp TIMESTAMP, productos ARRAY<STRUCT<id INT, nombre STRING, precio DOUBLE, cantidad INT>>, metodo_pago STRING, tienda_id INT\"\"\"\n",
    "payload_schema = T._parse_datatype_string(payload_ddl)\n",
    "\n",
    "# Basic record parsing and adding ETL audit columns\n",
    "def parse(df):\n",
    "  return (df\n",
    "    .withColumn(\"records\", col(\"value\").cast(\"string\"))\n",
    "    .withColumn(\"parsed_records\", from_json(col(\"records\"), payload_schema))\n",
    "    .withColumn(\"timestamp\", to_timestamp(col(\"parsed_records.timestamp\")))\n",
    "    .withColumn(\"fecha_hora\", col(\"timestamp\").cast(\"datetime\"))\n",
    "    .withColumn(\"metodo_pago\", col(\"parsed_records.metodo_pago\").cast(\"string\"))\n",
    "    .withColumn(\"tienda_id\", col(\"parsed_records.tienda_id\").cast(\"int\"))\n",
    "    .withColumn(\"productos_explode\", F.explode(\"parsed_records.productos\"))\n",
    "    .withColumn(\"productos_id\", col(\"productos_explode.id\").cast(\"int\"))\n",
    "    .withColumn(\"nombre\", col(\"productos_explode.nombre\").cast(\"string\"))\n",
    "    .withColumn(\"precio\", col(\"productos_explode.precio\").cast(\"double\"))\n",
    "    .withColumn(\"cantidad\", col(\"productos_explode.cantidad\").cast(\"int\"))\n",
    "    .select(\"fecha_hora\", \"metodo_pago\", \"tienda_id\", \"productos_id\", \"nombre\", \"precio\", \"cantidad\")\n",
    "  )\n",
    "\n",
    "\n",
    "@dlt.create_table(\n",
    "  comment=\"Raw Sales Events\",\n",
    "  table_properties={\n",
    "    \"quality\": \"bronze\",\n",
    "    \"pipelines.reset.allowed\": \"true\" \n",
    "  }\n",
    ")\n",
    "def sales_raw():\n",
    "  return (\n",
    "   spark.readStream\n",
    "    .format(\"kafka\")\n",
    "    .options(**KAFKA_OPTIONS)\n",
    "    .load()\n",
    "    .transform(parse)\n",
    "  )\n",
    "\n",
    "@dlt.create_table(\n",
    "  comment=\"Sales\",\n",
    "  table_properties={\n",
    "    \"quality\": \"silver\",\n",
    "    \"pipelines.reset.allowed\": \"true\" \n",
    "  }\n",
    ")\n",
    "def sales_silver():\n",
    "  return (\n",
    "   spark.table(\"sales_raw\")\n",
    "    .withColumn(\"venta_individual\", col(\"precio\") * col(\"cantidad\"))\n",
    "    .withColumn(\"fecha\", col(\"fecha_hora\").cast(\"date\"))\n",
    "    .filter(col(\"cantidad\") > 0)\n",
    "  )\n",
    "\n",
    "@dlt.create_table(\n",
    "  comment = \"Gold Summary Sales\",\n",
    "  table_properties={\n",
    "    \"quality\": \"gold\",\n",
    "    \"pipelines.reset.allowed\": \"true\" \n",
    "  }\n",
    ")\n",
    "def sales_gold():\n",
    "  return (\n",
    "    spark.table(\"sales_silver\")\n",
    "      .select(\"metodo_pago\", \"fecha\", \"nombre\", \"venta_individual\", \"cantidad\")\n",
    "      .groupBy(\"fecha\", \"nombre\", \"metodo_pago\")\n",
    "      .agg(\n",
    "        sum(\"venta_individual\").alias(\"venta_total\"),\n",
    "        sum(\"cantidad\").alias(\"cantidad_total\")\n",
    "      )\n",
    "  )\n"
   ]
  }
 ],
 "metadata": {
  "application/vnd.databricks.v1+notebook": {
   "computePreferences": null,
   "dashboards": [],
   "environmentMetadata": {
    "base_environment": "",
    "environment_version": "2"
   },
   "language": "python",
   "notebookMetadata": {
    "mostRecentlyExecutedCommandWithImplicitDF": {
     "commandId": 7484446957700642,
     "dataframes": [
      "_sqldf"
     ]
    },
    "pythonIndentUnit": 4
   },
   "notebookName": "Inicio DLT con Event Hubs",
   "widgets": {}
  },
  "language_info": {
   "name": "python"
  }
 },
 "nbformat": 4,
 "nbformat_minor": 0
}
